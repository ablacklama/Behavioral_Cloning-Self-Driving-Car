{
 "cells": [
  {
   "cell_type": "code",
   "execution_count": 2,
   "metadata": {},
   "outputs": [],
   "source": [
    "import csv\n",
    "\n",
    "#full path for csv file\n",
    "csv_path = 'C:\\\\Users\\\\ablacklama\\\\Desktop\\\\data\\\\driving_log.csv'\n",
    "\n",
    "#IMG folder\n",
    "new_img_path = 'C:\\\\Users\\\\ablacklama\\\\Desktop\\\\data\\\\IMG'\n",
    "\n",
    "r = csv.reader(open(csv_path)) \n",
    "lines = [l for l in r]\n",
    "\n",
    "for i in range(len(lines)):\n",
    "    line = lines[i]\n",
    "    image_center_path = line[0].split('\\\\')[-1]\n",
    "    image_left_path = line[1].split('\\\\')[-1]\n",
    "    image_right_path = line[2].split('\\\\')[-1]\n",
    "    \n",
    "    image_center_path = new_img_path + '\\\\' + image_center_path\n",
    "    image_left_path = new_img_path + '\\\\' + image_left_path\n",
    "    image_right_path = new_img_path + '\\\\' + image_right_path\n",
    "    \n",
    "    lines[i][0] = image_center_path\n",
    "    lines[i][1] = image_left_path\n",
    "    lines[i][2] = image_right_path\n",
    "    \n",
    "\n",
    "writer = csv.writer(open(csv_path, 'w'))\n",
    "writer.writerows(lines)"
   ]
  },
  {
   "cell_type": "code",
   "execution_count": null,
   "metadata": {
    "collapsed": true
   },
   "outputs": [],
   "source": []
  }
 ],
 "metadata": {
  "kernelspec": {
   "display_name": "Python 3",
   "language": "python",
   "name": "python3"
  },
  "language_info": {
   "codemirror_mode": {
    "name": "ipython",
    "version": 3
   },
   "file_extension": ".py",
   "mimetype": "text/x-python",
   "name": "python",
   "nbconvert_exporter": "python",
   "pygments_lexer": "ipython3",
   "version": "3.5.2"
  },
  "widgets": {
   "state": {},
   "version": "1.1.2"
  }
 },
 "nbformat": 4,
 "nbformat_minor": 2
}
